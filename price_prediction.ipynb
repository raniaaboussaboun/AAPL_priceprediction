{
 "cells": [
  {
   "cell_type": "code",
   "execution_count": 1,
   "metadata": {},
   "outputs": [],
   "source": [
    "import pandas as pd \n"
   ]
  },
  {
   "cell_type": "code",
   "execution_count": 33,
   "metadata": {},
   "outputs": [],
   "source": [
    "sentiment=pd.read_csv('sentiment_data.csv')\n",
    "price=pd.read_csv('apple_stock.csv')"
   ]
  },
  {
   "cell_type": "code",
   "execution_count": 34,
   "metadata": {},
   "outputs": [],
   "source": [
    "price=price.dropna()"
   ]
  },
  {
   "cell_type": "code",
   "execution_count": 35,
   "metadata": {},
   "outputs": [],
   "source": [
    "price['Date'] = pd.to_datetime(price['Date'])\n"
   ]
  },
  {
   "cell_type": "code",
   "execution_count": 36,
   "metadata": {},
   "outputs": [],
   "source": [
    "\n",
    "sentiment['time_published'] = pd.to_datetime(sentiment['time_published'])\n",
    "\n",
    "sentiment['Date'] = sentiment['time_published'].dt.date\n",
    "\n",
    "daily_sentiment = sentiment.groupby('Date').agg(\n",
    "    overall_sentiment_score=('overall_sentiment_score', 'mean'),\n",
    "    textblob_polarity=('textblob_polarity', 'mean'),\n",
    "    textblob_subjectivity=('textblob_subjectivity', 'mean'),\n",
    "    transformers_sentiment_score=('transformers_sentiment_score', 'mean'),\n",
    ").reset_index()\n",
    "\n",
    "price['Date'] = pd.to_datetime(price['Date']).dt.date\n",
    "\n",
    "combined_data = pd.merge(price, daily_sentiment, on='Date', how='left')\n",
    "\n",
    "combined_data = combined_data.fillna(0)\n",
    "combined_data['Close'] = pd.to_numeric(combined_data['Close'], errors='coerce')\n",
    "\n",
    "combined_data['Price Change'] = combined_data['Close'].shift(-1) - combined_data['Close']\n",
    "combined_data['Price Direction'] = (combined_data['Price Change'] > 0).astype(int)\n",
    "\n"
   ]
  },
  {
   "cell_type": "code",
   "execution_count": 37,
   "metadata": {},
   "outputs": [
    {
     "data": {
      "text/plain": [
       "(488, 13)"
      ]
     },
     "execution_count": 37,
     "metadata": {},
     "output_type": "execute_result"
    }
   ],
   "source": [
    "combined_data.shape"
   ]
  },
  {
   "cell_type": "code",
   "execution_count": 38,
   "metadata": {},
   "outputs": [],
   "source": [
    "import numpy as np\n",
    "\n",
    "\n",
    "combined_data['SMA_20'] = combined_data['Close'].rolling(window=20).mean()\n",
    "\n",
    "combined_data['EMA_20'] = combined_data['Close'].ewm(span=20, adjust=False).mean()\n",
    "\n",
    "ema12 = combined_data['Close'].ewm(span=12, adjust=False).mean()\n",
    "ema26 = combined_data['Close'].ewm(span=26, adjust=False).mean()\n",
    "combined_data['MACD'] = ema12 - ema26\n",
    "\n",
    "combined_data['Signal_Line'] = combined_data['MACD'].ewm(span=9, adjust=False).mean()\n",
    "\n",
    "delta = combined_data['Close'].diff()\n",
    "gain = (delta.where(delta > 0, 0)).rolling(window=14).mean()\n",
    "loss = (-delta.where(delta < 0, 0)).rolling(window=14).mean()\n",
    "\n",
    "rs = gain / loss\n",
    "combined_data['RSI_14'] = 100 - (100 / (1 + rs))\n",
    "\n"
   ]
  },
  {
   "cell_type": "code",
   "execution_count": 39,
   "metadata": {},
   "outputs": [
    {
     "data": {
      "text/plain": [
       "Index(['Date', 'Adj Close', 'Close', 'High', 'Low', 'Open', 'Volume',\n",
       "       'overall_sentiment_score', 'textblob_polarity', 'textblob_subjectivity',\n",
       "       'transformers_sentiment_score', 'Price Change', 'Price Direction',\n",
       "       'SMA_20', 'EMA_20', 'MACD', 'Signal_Line', 'RSI_14'],\n",
       "      dtype='object')"
      ]
     },
     "execution_count": 39,
     "metadata": {},
     "output_type": "execute_result"
    }
   ],
   "source": [
    "combined_data.columns"
   ]
  },
  {
   "cell_type": "code",
   "execution_count": 40,
   "metadata": {},
   "outputs": [],
   "source": [
    "combined_data=combined_data.dropna()"
   ]
  },
  {
   "cell_type": "code",
   "execution_count": 41,
   "metadata": {},
   "outputs": [],
   "source": [
    "import pandas as pd\n",
    "import numpy as np\n",
    "from sklearn.model_selection import train_test_split\n",
    "from sklearn.ensemble import RandomForestClassifier\n",
    "from sklearn.metrics import classification_report, accuracy_score\n",
    "from sklearn.preprocessing import StandardScaler\n",
    "\n",
    "\n",
    "X = combined_data[['Price Change', 'SMA_20', 'EMA_20', 'MACD', 'Signal_Line', 'RSI_14',\n",
    "                'overall_sentiment_score', 'textblob_polarity', 'textblob_subjectivity', 'transformers_sentiment_score']]\n",
    "\n",
    "y = combined_data['Price Direction']\n",
    "\n",
    "X_train, X_test, y_train, y_test = train_test_split(X, y, test_size=0.2, random_state=42,shuffle=False)\n",
    "\n",
    "scaler = StandardScaler()\n",
    "X_train_scaled = scaler.fit_transform(X_train)\n",
    "X_test_scaled = scaler.transform(X_test)\n",
    "\n"
   ]
  },
  {
   "cell_type": "code",
   "execution_count": 46,
   "metadata": {},
   "outputs": [
    {
     "name": "stdout",
     "output_type": "stream",
     "text": [
      "Accuracy Score: 0.9574468085106383\n",
      "\n",
      "Classification Report:\n",
      "              precision    recall  f1-score   support\n",
      "\n",
      "           0       1.00      0.89      0.94        38\n",
      "           1       0.93      1.00      0.97        56\n",
      "\n",
      "    accuracy                           0.96        94\n",
      "   macro avg       0.97      0.95      0.95        94\n",
      "weighted avg       0.96      0.96      0.96        94\n",
      "\n"
     ]
    }
   ],
   "source": [
    "from sklearn.linear_model import LogisticRegression\n",
    "\n",
    "#  logistic regression with L2 regularization\n",
    "model = LogisticRegression(C=1.0, solver='lbfgs', max_iter=2000)\n",
    "model.fit(X_train_scaled, y_train)\n",
    "y_pred = model.predict(X_test_scaled)\n",
    "\n",
    "print(\"Accuracy Score:\", accuracy_score(y_test, y_pred))\n",
    "print(\"\\nClassification Report:\")\n",
    "print(classification_report(y_test, y_pred))"
   ]
  },
  {
   "cell_type": "code",
   "execution_count": null,
   "metadata": {},
   "outputs": [],
   "source": []
  }
 ],
 "metadata": {
  "kernelspec": {
   "display_name": "env",
   "language": "python",
   "name": "python3"
  },
  "language_info": {
   "codemirror_mode": {
    "name": "ipython",
    "version": 3
   },
   "file_extension": ".py",
   "mimetype": "text/x-python",
   "name": "python",
   "nbconvert_exporter": "python",
   "pygments_lexer": "ipython3",
   "version": "3.10.13"
  }
 },
 "nbformat": 4,
 "nbformat_minor": 2
}
